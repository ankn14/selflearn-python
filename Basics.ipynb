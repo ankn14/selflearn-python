{
  "cells": [
    {
      "metadata": {},
      "cell_type": "markdown",
      "source": "###  What is Python?\n\nA general-uprpose programming language used in science, business, software development, and more."
    },
    {
      "metadata": {},
      "cell_type": "markdown",
      "source": "\n### Why Python?\n\n- The **readability** makes your code feel like English\n- The **low learning curve** allows anybody to be productive within a few hours of learning\n- The **community** is very active so if you need help, you'll find the answers very quickly"
    },
    {
      "metadata": {
        "trusted": true
      },
      "cell_type": "code",
      "source": "# This is a condensed guide of basic Python meant for quick understanding.\n# This will not make you master the basics. For that you need to practice.\n#\n# Tables of Contents\n#\n# 1 Printing\n# 2 Math\n# 3 Variables\n# 4 Strings\n# 5 Conditionals\n# 6 Lists\n# 7 Loops\n# 8 Dictionaries\n# 9 Functions\n#\n# The hashtags (#) signify the start of a comment\n# The computer ignores these. It's meant for humans!",
      "execution_count": 1,
      "outputs": []
    },
    {
      "metadata": {},
      "cell_type": "markdown",
      "source": "### 1/9:  PRINTING"
    },
    {
      "metadata": {
        "trusted": true
      },
      "cell_type": "code",
      "source": "print(\"Hello World\")\nprint(\"Hello\", \"Vancouver\")",
      "execution_count": 2,
      "outputs": [
        {
          "output_type": "stream",
          "text": "Hello World\nHello Vancouver\n",
          "name": "stdout"
        }
      ]
    },
    {
      "metadata": {},
      "cell_type": "markdown",
      "source": "### 2/9: MATH\n*Addition, Subtraction, Multiplication, Division*"
    },
    {
      "metadata": {
        "trusted": true
      },
      "cell_type": "code",
      "source": "print(\"4+6 =\", 4 + 6)\nprint(\"10-3 =\", 10 - 3)\nprint(\"3*10 =\", 3 * 10)\nprint(\"20/5 =\", 20 / 5)",
      "execution_count": 3,
      "outputs": [
        {
          "output_type": "stream",
          "text": "4+6 = 10\n10-3 = 7\n3*10 = 30\n20/5 = 4.0\n",
          "name": "stdout"
        }
      ]
    },
    {
      "metadata": {},
      "cell_type": "markdown",
      "source": "### 3/9: VARIABLES"
    },
    {
      "metadata": {
        "trusted": true
      },
      "cell_type": "code",
      "source": "x = 10\ny = 2\n\nprint(\"x+y =\", x+2)\nprint(\"x*y = \", x*y)\n\nz = x + y\nprint(\"z =\", \"x/y =\", z)",
      "execution_count": 4,
      "outputs": [
        {
          "output_type": "stream",
          "text": "x+y = 12\nx*y =  20\nz = x/y = 12\n",
          "name": "stdout"
        }
      ]
    },
    {
      "metadata": {},
      "cell_type": "markdown",
      "source": "### 4/9: STRINGS\n*Words, Sentences*"
    },
    {
      "metadata": {
        "trusted": true
      },
      "cell_type": "code",
      "source": "city = 'Vancouver'\ndefinition = 'is really expensive'\n\nprint(city, definition)\n\nperson = 'Sam Song'\nitem = 'a good phone'\n\nprint(person, \"has\", item)",
      "execution_count": 5,
      "outputs": [
        {
          "output_type": "stream",
          "text": "Vancouver is really expensive\nSam Song has a good phone\n",
          "name": "stdout"
        }
      ]
    },
    {
      "metadata": {},
      "cell_type": "markdown",
      "source": "### 5/9: CONDITIONALS\n*if-else, true-false*"
    },
    {
      "metadata": {
        "trusted": true
      },
      "cell_type": "code",
      "source": "species = 'Human'\n\nif species == 'Human':\n    print('Raise your hand')\nelse:\n    print('Raise your tentacles')\n    \n\n\ndaily_revenue_target = 5000\nrevenue_today = 4000\n\nif revenue_today > daily_revenue_target:\n    print('We made more money than we expected')\nelse:\n    print(\"Let's fire someone\") # note that we used\n    \n\npoor = daily_revenue_target < revenue_today\n    \nif poor:\n    print('My business sucks')\nif not poor:\n    print('The business is doing better than my GPA')",
      "execution_count": 6,
      "outputs": [
        {
          "output_type": "stream",
          "text": "Raise your hand\nLet's fire someone\nThe business is doing better than my GPA\n",
          "name": "stdout"
        }
      ]
    },
    {
      "metadata": {
        "trusted": true
      },
      "cell_type": "markdown",
      "source": "### 6/9 and 7/9: LISTS AND LOOPS"
    },
    {
      "metadata": {
        "trusted": true
      },
      "cell_type": "code",
      "source": "princesses = ['Rapunzel', 'Cinderella', 'Aurora']\n\nfor princess in princesses:\n    print(princess, 'is from Disney')\nprint('\\n')\n# to add to a list, -append- the element\n\nprincesses_2019 = ['Kendall Jenner', 'Taylor Swift']\n\nfor pr in princesses_2019:\n    princesses.append(pr)\n\nprint(princesses)\nprint('\\n')\n\n# lists are sequential, which means that they are ordered\n# lists can be accessed by using -[]- notation\n# the order starts at 0, so to access the first princess, type princesses[0]\n#\n# you can also access a range from the list by using -[start:end]-\n\nprint('princesses[0] is', princesses[0])\nprint('First 3 princesses', princesses[0:3])",
      "execution_count": 7,
      "outputs": [
        {
          "output_type": "stream",
          "text": "Rapunzel is from Disney\nCinderella is from Disney\nAurora is from Disney\n\n\n['Rapunzel', 'Cinderella', 'Aurora', 'Kendall Jenner', 'Taylor Swift']\n\n\nprincesses[0] is Rapunzel\nFirst 3 princesses ['Rapunzel', 'Cinderella', 'Aurora']\n",
          "name": "stdout"
        }
      ]
    },
    {
      "metadata": {},
      "cell_type": "markdown",
      "source": "### 8/9: Dictionaries\nLike `lists`, but you can name the elements inside"
    },
    {
      "metadata": {
        "trusted": true
      },
      "cell_type": "code",
      "source": "phone_prices = {\n    'Apple' : '$1000',\n    'Samsung' : '$950',\n    'Banana' : '$100'\n}\n\nprint(phone_prices.get('Apple'))\n\n# this is how you add stuff to a dictionary\n\nphone_prices.update({'SUPREME' : '$9000'})\n\n\n# this is how you loop through a dictionary\n\nfor key, value in phone_prices.items():\n    print(key, 'phone costs', value)",
      "execution_count": 8,
      "outputs": [
        {
          "output_type": "stream",
          "text": "$1000\nApple phone costs $1000\nSamsung phone costs $950\nBanana phone costs $100\nSUPREME phone costs $9000\n",
          "name": "stdout"
        }
      ]
    },
    {
      "metadata": {},
      "cell_type": "markdown",
      "source": "### 9/9 FUNCTIONS\n`Functions` let us organize our code better"
    },
    {
      "metadata": {
        "trusted": true
      },
      "cell_type": "code",
      "source": "def get_good_students(student_grades = {}):\n    \n    passing_score = 80\n    passing_students = {}\n\n    for student, grade in student_grades.items():\n        if grade >= 80:\n            passing_students.update({student : grade})\n        else:\n            print(student, 'has failed')\n            \n    return passing_students\n\npython_101_class = {\n    'Shin-Ae' : 77,\n    'Yeong-Gi' : 72,\n    'Kousuke' : 100,\n    'Dieter' : 82    \n}\n\npython_101_survivors = get_good_students(python_101_class)\n\nprint(python_101_survivors)",
      "execution_count": 9,
      "outputs": [
        {
          "output_type": "stream",
          "text": "Shin-Ae has failed\nYeong-Gi has failed\n{'Kousuke': 100, 'Dieter': 82}\n",
          "name": "stdout"
        }
      ]
    },
    {
      "metadata": {},
      "cell_type": "markdown",
      "source": "### A Summary (lists, loops, dictionaries, functions)"
    },
    {
      "metadata": {
        "trusted": true
      },
      "cell_type": "code",
      "source": "names = ['widowmaker', 'genji', 'bob']\ngenders = ['female', 'male', 'robot']\n\ngame_characters = {}\n\n# zip is a slightly advanced concept, but it basically\n# allows you to do a for-loop with two lists\nfor name, gender in zip(names, genders):\n    game_characters.update({name : gender})\n\ndef find_robot(characters):\n    robots = {}\n    for name, gender in characters.items():\n        if gender.lower() == 'robot':\n            robots.update({name : gender})\n    return robots\n\nprint('Our characters are', game_characters)\nprint('Our robot is', find_robot(game_characters))",
      "execution_count": 10,
      "outputs": [
        {
          "output_type": "stream",
          "text": "Our characters are {'widowmaker': 'female', 'genji': 'male', 'bob': 'robot'}\nOur robot is {'bob': 'robot'}\n",
          "name": "stdout"
        }
      ]
    },
    {
      "metadata": {},
      "cell_type": "markdown",
      "source": "### Afterword\n\n- **IF YOUR CODE DOES NOT WORK, SEARCH GOOGLE FOR ANSWERS.**\n- The above covers a lot of breadth, but not enough depth. It's only to help you understand how to read and write with Python.\n- Learn the basics in more depth from <https://www.sololearn.com/Course/Python/>."
    },
    {
      "metadata": {
        "trusted": true
      },
      "cell_type": "code",
      "source": "",
      "execution_count": null,
      "outputs": []
    }
  ],
  "metadata": {
    "kernelspec": {
      "name": "python36",
      "display_name": "Python 3.6",
      "language": "python"
    },
    "language_info": {
      "mimetype": "text/x-python",
      "nbconvert_exporter": "python",
      "name": "python",
      "pygments_lexer": "ipython3",
      "version": "3.6.6",
      "file_extension": ".py",
      "codemirror_mode": {
        "version": 3,
        "name": "ipython"
      }
    }
  },
  "nbformat": 4,
  "nbformat_minor": 2
}
